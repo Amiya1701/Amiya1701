{
  "nbformat": 4,
  "nbformat_minor": 0,
  "metadata": {
    "colab": {
      "provenance": [],
      "authorship_tag": "ABX9TyOjrCXxqrdIO+G0g2BSFArz",
      "include_colab_link": true
    },
    "kernelspec": {
      "name": "python3",
      "display_name": "Python 3"
    },
    "language_info": {
      "name": "python"
    }
  },
  "cells": [
    {
      "cell_type": "markdown",
      "metadata": {
        "id": "view-in-github",
        "colab_type": "text"
      },
      "source": [
        "<a href=\"https://colab.research.google.com/github/Amiya1701/Amiya1701/blob/main/pandas.ipynb\" target=\"_parent\"><img src=\"https://colab.research.google.com/assets/colab-badge.svg\" alt=\"Open In Colab\"/></a>"
      ]
    },
    {
      "cell_type": "code",
      "execution_count": null,
      "metadata": {
        "colab": {
          "base_uri": "https://localhost:8080/",
          "height": 332
        },
        "id": "j7XlFORp9PIk",
        "outputId": "f3a8318e-bd65-45f8-a7b0-207b4cb8324b"
      },
      "outputs": [
        {
          "output_type": "error",
          "ename": "AttributeError",
          "evalue": "'Series' object has no attribute 'DataFrame'",
          "traceback": [
            "\u001b[0;31m---------------------------------------------------------------------------\u001b[0m",
            "\u001b[0;31mAttributeError\u001b[0m                            Traceback (most recent call last)",
            "\u001b[0;32m<ipython-input-24-e7618777c23a>\u001b[0m in \u001b[0;36m<cell line: 52>\u001b[0;34m()\u001b[0m\n\u001b[1;32m     50\u001b[0m \u001b[0;34m\u001b[0m\u001b[0m\n\u001b[1;32m     51\u001b[0m \u001b[0;31m#ceating data frame\u001b[0m\u001b[0;34m\u001b[0m\u001b[0;34m\u001b[0m\u001b[0m\n\u001b[0;32m---> 52\u001b[0;31m \u001b[0mpd\u001b[0m\u001b[0;34m=\u001b[0m\u001b[0mpd\u001b[0m\u001b[0;34m.\u001b[0m\u001b[0mDataFrame\u001b[0m\u001b[0;34m(\u001b[0m\u001b[0;34m{\u001b[0m\u001b[0;34m\"Name\"\u001b[0m\u001b[0;34m:\u001b[0m\u001b[0;34m[\u001b[0m\u001b[0;34m\"Joe\"\u001b[0m\u001b[0;34m,\u001b[0m\u001b[0;34m\"Dnne\"\u001b[0m\u001b[0;34m,\u001b[0m\u001b[0;34m\"Lily\"\u001b[0m\u001b[0;34m]\u001b[0m\u001b[0;34m,\u001b[0m\u001b[0;34m\"Marks\"\u001b[0m\u001b[0;34m:\u001b[0m\u001b[0;34m[\u001b[0m\u001b[0;36m55\u001b[0m\u001b[0;34m,\u001b[0m\u001b[0;36m89\u001b[0m\u001b[0;34m,\u001b[0m\u001b[0;36m67\u001b[0m\u001b[0;34m]\u001b[0m\u001b[0;34m}\u001b[0m\u001b[0;34m)\u001b[0m\u001b[0;34m\u001b[0m\u001b[0;34m\u001b[0m\u001b[0m\n\u001b[0m\u001b[1;32m     53\u001b[0m \u001b[0mpd\u001b[0m\u001b[0;34m\u001b[0m\u001b[0;34m\u001b[0m\u001b[0m\n\u001b[1;32m     54\u001b[0m \u001b[0;34m\u001b[0m\u001b[0m\n",
            "\u001b[0;32m/usr/local/lib/python3.10/dist-packages/pandas/core/generic.py\u001b[0m in \u001b[0;36m__getattr__\u001b[0;34m(self, name)\u001b[0m\n\u001b[1;32m   6297\u001b[0m         ):\n\u001b[1;32m   6298\u001b[0m             \u001b[0;32mreturn\u001b[0m \u001b[0mself\u001b[0m\u001b[0;34m[\u001b[0m\u001b[0mname\u001b[0m\u001b[0;34m]\u001b[0m\u001b[0;34m\u001b[0m\u001b[0;34m\u001b[0m\u001b[0m\n\u001b[0;32m-> 6299\u001b[0;31m         \u001b[0;32mreturn\u001b[0m \u001b[0mobject\u001b[0m\u001b[0;34m.\u001b[0m\u001b[0m__getattribute__\u001b[0m\u001b[0;34m(\u001b[0m\u001b[0mself\u001b[0m\u001b[0;34m,\u001b[0m \u001b[0mname\u001b[0m\u001b[0;34m)\u001b[0m\u001b[0;34m\u001b[0m\u001b[0;34m\u001b[0m\u001b[0m\n\u001b[0m\u001b[1;32m   6300\u001b[0m \u001b[0;34m\u001b[0m\u001b[0m\n\u001b[1;32m   6301\u001b[0m     \u001b[0;34m@\u001b[0m\u001b[0mfinal\u001b[0m\u001b[0;34m\u001b[0m\u001b[0;34m\u001b[0m\u001b[0m\n",
            "\u001b[0;31mAttributeError\u001b[0m: 'Series' object has no attribute 'DataFrame'"
          ]
        }
      ],
      "source": [
        "import pandas as pd\n",
        "#data creation\n",
        "student=pd.DataFrame({\"Name\":[\"Joe\",\"Dnne\",\"Lily\"],\"Marks\":[55,89,67]})\n",
        "student\n",
        "\n",
        "#data loading/Acquicition\n",
        "##iris=pd.read_csv('iris.csv')\n",
        "#iris\n",
        "\n",
        "#Extracting indiv colums\n",
        "#iris_Length=iris[['sepal.Length','petal.length']]\n",
        "#iris_Length\n",
        "\n",
        "\n",
        "#Extracting indivi column\n",
        "#iris_sepal_6=iris[iris['sepal.Length']>6]\n",
        "#iris_sepal_6\n",
        "\n",
        "#data visulization\n",
        "#iris.plot(kind=\"hist\")\n",
        "\n",
        "#series obj in one dimensional array\n",
        "s1=pd.Series([1,2,3,4,5])\n",
        "s1\n",
        "\n",
        "type(s1)\n",
        "\n",
        "#changing index\n",
        "s1=pd.Series([1,2,3,4,5],index=['a','b','c','d','e'])\n",
        "s1\n",
        "\n",
        "#SEries onj from dict\n",
        "pd=pd.Series({'a':10,'b':20,'c':30})\n",
        "pd\n",
        "\n",
        "\n",
        "#accessing ele\n",
        "#s1=pd.Series([1,2,3,4,5])\n",
        "#s1[1]\n",
        "\n",
        "#accesing from back\n",
        "#s1=pd.Series([1,2,3,4,5,6,7,8,9])\n",
        "#s1[-3:]\n",
        "\n",
        "\n",
        "#adding a scalar value\n",
        "#s3=pd.Series([1,2,3,4,5,6])\n",
        "#s2=pd.Series([2,5,4,6,7,2])\n",
        "#s1+s3\n",
        "\n",
        "#ceating data frame\n",
        "pd=pd.DataFrame({\"Name\":[\"Joe\",\"Dnne\",\"Lily\"],\"Marks\":[55,89,67]})\n",
        "pd\n",
        "\n",
        "\n",
        "\n",
        "\n",
        "\n"
      ]
    },
    {
      "cell_type": "code",
      "source": [],
      "metadata": {
        "id": "VyIf5-6c-Esh"
      },
      "execution_count": null,
      "outputs": []
    }
  ]
}